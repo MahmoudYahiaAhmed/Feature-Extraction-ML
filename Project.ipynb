{
  "nbformat": 4,
  "nbformat_minor": 0,
  "metadata": {
    "colab": {
      "name": "Group16HW2.ipynb",
      "provenance": [],
      "collapsed_sections": []
    },
    "kernelspec": {
      "name": "python3",
      "display_name": "Python 3"
    },
    "language_info": {
      "name": "python"
    }
  },
  "cells": [
    {
      "cell_type": "markdown",
      "source": [
        "#LOADING Data "
      ],
      "metadata": {
        "id": "HTCiaUveCxSk"
      }
    },
    {
      "cell_type": "code",
      "execution_count": null,
      "metadata": {
        "id": "Ku0v2pbCOEes",
        "colab": {
          "base_uri": "https://localhost:8080/"
        },
        "outputId": "7cdc0f2e-ab7c-48fa-9618-0999f1032e1c"
      },
      "outputs": [
        {
          "output_type": "stream",
          "name": "stdout",
          "text": [
            "<class 'pandas.core.frame.DataFrame'>\n",
            "RangeIndex: 178 entries, 0 to 177\n",
            "Data columns (total 14 columns):\n",
            " #   Column                        Non-Null Count  Dtype  \n",
            "---  ------                        --------------  -----  \n",
            " 0   alcohol                       178 non-null    float64\n",
            " 1   malic_acid                    178 non-null    float64\n",
            " 2   ash                           178 non-null    float64\n",
            " 3   alcalinity_of_ash             178 non-null    float64\n",
            " 4   magnesium                     178 non-null    float64\n",
            " 5   total_phenols                 178 non-null    float64\n",
            " 6   flavanoids                    178 non-null    float64\n",
            " 7   nonflavanoid_phenols          178 non-null    float64\n",
            " 8   proanthocyanins               178 non-null    float64\n",
            " 9   color_intensity               178 non-null    float64\n",
            " 10  hue                           178 non-null    float64\n",
            " 11  od280/od315_of_diluted_wines  178 non-null    float64\n",
            " 12  proline                       178 non-null    float64\n",
            " 13  target                        178 non-null    float64\n",
            "dtypes: float64(14)\n",
            "memory usage: 19.6 KB\n"
          ]
        }
      ],
      "source": [
        "from sklearn.datasets import load_wine\n",
        "import numpy as np\n",
        "from matplotlib import pyplot as plt\n",
        "from sklearn.model_selection import train_test_split\n",
        "from sklearn.decomposition import PCA\n",
        "from mlxtend.plotting import plot_decision_regions\n",
        "from sklearn.neighbors import KNeighborsClassifier  \n",
        "from sklearn.naive_bayes import GaussianNB\n",
        "from sklearn import preprocessing\n",
        "from sklearn.preprocessing import OneHotEncoder\n",
        "from sklearn.preprocessing import StandardScaler\n",
        "from sklearn.metrics import classification_report\n",
        "from sklearn.metrics import accuracy_score\n",
        "from sklearn import preprocessing\n",
        "import pandas as pd\n",
        "import time\n",
        "import random\n",
        "from sklearn.ensemble import ExtraTreesClassifier\n",
        "start_time = time.time()\n",
        "# allow plots to appear within the notebook\n",
        "%matplotlib inline\n",
        "def getAccuracy(model, x, y):                    #Accuracy Calc\n",
        "    return model.score(x,y)*100\n",
        "data2 = load_wine()\n",
        "data=pd.DataFrame(data=np.c_[data2['data'],data2['target']],columns=data2['feature_names']+['target'])\n",
        "#Check data with info function\n",
        "data.info()\n",
        "\n"
      ]
    },
    {
      "cell_type": "code",
      "source": [
        "y = data2.target\n",
        "x= data2.data\n",
        "X = np.array(x)\n",
        "Y = np.array(y)"
      ],
      "metadata": {
        "id": "8sWKfNlNPRfk"
      },
      "execution_count": null,
      "outputs": []
    },
    {
      "cell_type": "code",
      "source": [
        "X_train, X_test, y_train, y_test = train_test_split(x , y, test_size=0.30, random_state=42)"
      ],
      "metadata": {
        "id": "FQAaC7I8PDmd"
      },
      "execution_count": null,
      "outputs": []
    },
    {
      "cell_type": "code",
      "source": [
        "nv = GaussianNB()\n",
        "nv.fit(X_train, y_train)\n",
        "ypred=nv.predict(X_test)"
      ],
      "metadata": {
        "id": "HsAL0aP5Pbht"
      },
      "execution_count": null,
      "outputs": []
    },
    {
      "cell_type": "code",
      "source": [
        "# get accuracy for model\n",
        "getAccuracy(nv,X_test,y_test)"
      ],
      "metadata": {
        "colab": {
          "base_uri": "https://localhost:8080/"
        },
        "id": "338ZTd7KSq81",
        "outputId": "d6675e1d-2816-43f8-ec6d-4c790ccb6e86"
      },
      "execution_count": null,
      "outputs": [
        {
          "output_type": "execute_result",
          "data": {
            "text/plain": [
              "100.0"
            ]
          },
          "metadata": {},
          "execution_count": 222
        }
      ]
    },
    {
      "cell_type": "code",
      "source": [
        "# Classification Report\n",
        "print(classification_report(y_test, ypred))"
      ],
      "metadata": {
        "colab": {
          "base_uri": "https://localhost:8080/"
        },
        "id": "avkgLVqwS3yz",
        "outputId": "c51e310a-22d1-42d3-e6e1-ac12c80c5523"
      },
      "execution_count": null,
      "outputs": [
        {
          "output_type": "stream",
          "name": "stdout",
          "text": [
            "              precision    recall  f1-score   support\n",
            "\n",
            "           0       1.00      1.00      1.00        19\n",
            "           1       1.00      1.00      1.00        21\n",
            "           2       1.00      1.00      1.00        14\n",
            "\n",
            "    accuracy                           1.00        54\n",
            "   macro avg       1.00      1.00      1.00        54\n",
            "weighted avg       1.00      1.00      1.00        54\n",
            "\n"
          ]
        }
      ]
    },
    {
      "cell_type": "code",
      "source": [
        "#Plot the decision boundary on the test set (for simplicity, you can only consider 2 features when plotting the decision boundary in this question).\n",
        "#selecting best 2 features \n",
        "model2 = ExtraTreesClassifier()\n",
        "model2.fit(X_test,y_test)\n",
        "print(model2.feature_importances_) #use inbuilt class feature_importances of tree based classifiers\n",
        "feat_importances = pd.Series(model2.feature_importances_)\n",
        "yt=y_test[0:].reshape(1,-1)\n",
        "##print most 2 important features \n",
        "print(feat_importances.nlargest(2))\n",
        "model = GaussianNB()\n",
        "model.fit(X_test[:,[6,12]],yt[0])\n",
        "xscore=model.score(X_test[:,[6,12]],yt[0])\n",
        "print(xscore*100)"
      ],
      "metadata": {
        "colab": {
          "base_uri": "https://localhost:8080/"
        },
        "id": "I2cVaX1hEnow",
        "outputId": "6cc595b8-819e-49e2-bbb6-1c075dc186c5"
      },
      "execution_count": null,
      "outputs": [
        {
          "output_type": "stream",
          "name": "stdout",
          "text": [
            "[0.12286854 0.0521816  0.041468   0.04198666 0.03492127 0.07082279\n",
            " 0.13705631 0.05264397 0.02518131 0.1151291  0.0794905  0.08701493\n",
            " 0.13923502]\n",
            "12    0.139235\n",
            "6     0.137056\n",
            "dtype: float64\n",
            "94.44444444444444\n"
          ]
        }
      ]
    },
    {
      "cell_type": "code",
      "source": [
        "#ploting Decision Boundaries\n",
        "def decision_boundaries (trainx ,trainy, model, title):\n",
        "  plt.figure(figsize = (5, 5))\n",
        "  plt.scatter(trainx[trainy == 0,0], trainx[trainy == 0,1], c='y', marker='v', label=0)\n",
        "  plt.scatter(trainx[trainy == 1,0], trainx[trainy == 1,1], c='r', marker='o', label=1)\n",
        "  plt.scatter(trainx[trainy == 2,0], trainx[trainy == 2,1], c='b', marker='*', label=2)\n",
        "  x_min, x_max = trainx[:, 0].min() - 0.1, trainx[:, 0].max() + 0.1\n",
        "  y_min, y_max = trainx[:, 1].min() - 0.1, trainx[:, 1].max() + 0.1\n",
        "  xx, yy = np.meshgrid(np.arange(x_min, x_max, 0.1), np.arange(y_min, y_max, 0.1))\n",
        "  z = model.predict(np.c_[xx.ravel(), yy.ravel()])\n",
        "  Z= z.reshape(xx.shape)\n",
        "  plt.contourf(xx, yy, Z, alpha=0.3)\n",
        "  plt.title(title)\n",
        "  plt.xlabel('flavanoids')\n",
        "  plt.ylabel('proline')\n",
        "  plt.legend()\n",
        "  plt.show()"
      ],
      "metadata": {
        "id": "Q2cyU1XdTVbr"
      },
      "execution_count": null,
      "outputs": []
    },
    {
      "cell_type": "code",
      "source": [
        "#scattering most 2 important features \n",
        "plt.scatter(X_test[:,[6]],X_test[:,[12]],c=yt.reshape(-1,1),edgecolors=\"k\", cmap=plt.cm.Paired)\n",
        "plt.xlabel('proline')\n",
        "plt.ylabel('flavanoids')\n",
        "plt.title('Scatter plot on 2 features from the data set') "
      ],
      "metadata": {
        "colab": {
          "base_uri": "https://localhost:8080/",
          "height": 312
        },
        "id": "d27lTQUhbiZc",
        "outputId": "ec301577-9afa-4a02-e715-b72a5b1db699"
      },
      "execution_count": null,
      "outputs": [
        {
          "output_type": "execute_result",
          "data": {
            "text/plain": [
              "Text(0.5, 1.0, 'Scatter plot on 2 features from the data set')"
            ]
          },
          "metadata": {},
          "execution_count": 226
        },
        {
          "output_type": "display_data",
          "data": {
            "text/plain": [
              "<Figure size 432x288 with 1 Axes>"
            ],
            "image/png": "[encoded data removed]"
          },
          "metadata": {
            "needs_background": "light"
          }
        }
      ]
    },
    {
      "cell_type": "code",
      "source": [
        "### Decision boundary using LogisticRegression on selected features \n",
        "from sklearn.linear_model import LogisticRegression\n",
        "clf = LogisticRegression(random_state=0).fit(X_test[:,[6,12]],yt.reshape(-1,1) )\n",
        "model.fit(X_test[:,[6,12]],yt.reshape(-1,1))\n",
        "decision_boundaries(X_test[:,[6,12]],yt[0],model=clf,title='Decision boundary')"
      ],
      "metadata": {
        "colab": {
          "base_uri": "https://localhost:8080/",
          "height": 558
        },
        "id": "xtn_oU9PDJ1k",
        "outputId": "9caa9c00-8193-47ea-a861-65c724a9c252"
      },
      "execution_count": null,
      "outputs": [
        {
          "output_type": "stream",
          "name": "stderr",
          "text": [
            "/usr/local/lib/python3.7/dist-packages/sklearn/utils/validation.py:993: DataConversionWarning: A column-vector y was passed when a 1d array was expected. Please change the shape of y to (n_samples, ), for example using ravel().\n",
            "  y = column_or_1d(y, warn=True)\n",
            "/usr/local/lib/python3.7/dist-packages/sklearn/linear_model/_logistic.py:818: ConvergenceWarning: lbfgs failed to converge (status=1):\n",
            "STOP: TOTAL NO. of ITERATIONS REACHED LIMIT.\n",
            "\n",
            "Increase the number of iterations (max_iter) or scale the data as shown in:\n",
            "    https://scikit-learn.org/stable/modules/preprocessing.html\n",
            "Please also refer to the documentation for alternative solver options:\n",
            "    https://scikit-learn.org/stable/modules/linear_model.html#logistic-regression\n",
            "  extra_warning_msg=_LOGISTIC_SOLVER_CONVERGENCE_MSG,\n",
            "/usr/local/lib/python3.7/dist-packages/sklearn/utils/validation.py:993: DataConversionWarning: A column-vector y was passed when a 1d array was expected. Please change the shape of y to (n_samples, ), for example using ravel().\n",
            "  y = column_or_1d(y, warn=True)\n"
          ]
        },
        {
          "output_type": "display_data",
          "data": {
            "text/plain": [
              "<Figure size 360x360 with 1 Axes>"
            ],
            "image/png": "[encoded data removed]"
          },
          "metadata": {
            "needs_background": "light"
          }
        }
      ]
    },
    {
      "cell_type": "code",
      "source": [
        "#######Decision boundary for GuassianNB with 2 features \n",
        "_, ax = plt.subplots(figsize=(8, 6))\n",
        "plot_decision_regions(X_test[:,[6,12]], yt[0], clf=model, \n",
        "                      X_highlight=X_test, \n",
        "                      res=0.02, legend=2,    \n",
        "    ax=ax\n",
        "    )\n",
        "plt.xlabel('flavanoids')\n",
        "plt.ylabel('proline')\n",
        "plt.title(\"2 features from the data set\")"
      ],
      "metadata": {
        "colab": {
          "base_uri": "https://localhost:8080/",
          "height": 491
        },
        "id": "b92fp-_dYcE0",
        "outputId": "3f3fa482-cc0e-4ad4-aa03-4bbc08a329a8"
      },
      "execution_count": null,
      "outputs": [
        {
          "output_type": "stream",
          "name": "stderr",
          "text": [
            "/usr/local/lib/python3.7/dist-packages/mlxtend/plotting/decision_regions.py:244: MatplotlibDeprecationWarning: Passing unsupported keyword arguments to axis() will raise a TypeError in 3.3.\n",
            "  ax.axis(xmin=xx.min(), xmax=xx.max(), y_min=yy.min(), y_max=yy.max())\n",
            "/usr/local/lib/python3.7/dist-packages/mlxtend/plotting/decision_regions.py:313: MatplotlibDeprecationWarning: Using a string of single character colors as a color sequence is deprecated. Use an explicit list instead.\n",
            "  **scatter_highlight_kwargs)\n"
          ]
        },
        {
          "output_type": "execute_result",
          "data": {
            "text/plain": [
              "Text(0.5, 1.0, '2 features from the data set')"
            ]
          },
          "metadata": {},
          "execution_count": 394
        },
        {
          "output_type": "display_data",
          "data": {
            "text/plain": [
              "<Figure size 576x432 with 1 Axes>"
            ],
            "image/png": "[encoded data removed]"
          },
          "metadata": {
            "needs_background": "light"
          }
        }
      ]
    },
    {
      "cell_type": "code",
      "source": [
        "# function ( analysis of timing of prediction on test data )\n",
        "atime=[]\n",
        "atime2=[]\n",
        "mylist=[]\n",
        "def time1(n,s,x,y,x1,y1):\n",
        "  classifier= KNeighborsClassifier(n_neighbors=n)\n",
        "  for i in range(0,1000):\n",
        "      mylist.append(i)\n",
        "  randsample = random.sample(mylist,s)\n",
        "  xtrr,ytrr=x.iloc[randsample,],y.iloc[randsample,]\n",
        "  classifier.fit(xtrr,ytrr)\n",
        "  start_time = time.time()\n",
        "  pred=classifier.predict(x1)\n",
        "  end2=time.time()-start_time\n",
        "  score=classifier.score(x1,y1)\n",
        "  atime2.append([{'ptime':end2,'n':n,'randsample':len(randsample),'n':n}])\n",
        "  return atime2\n",
        "###plotting time bar of prediction values \n",
        "def plottime(l):\n",
        "  fig = plt.figure(figsize = (10, 5))\n",
        "  labels = ['time1', 'time2', 'time3', 'time4']\n",
        "  times = l\n",
        "  plt.bar(labels,times, color =['c','g','black','red'],width = 0.3)\n",
        "  plt.title('Prediction Time ')\n",
        "  plt.xlabel('cases')\n",
        "  plt.ylabel('prediction time')\n",
        "  plt.show()"
      ],
      "metadata": {
        "id": "pbj66cQ0GHVG"
      },
      "execution_count": null,
      "outputs": []
    },
    {
      "cell_type": "code",
      "source": [
        "##function to change number of training samples Using  10% to 100% fixed K=2\n",
        "scorett=[]\n",
        "scorevv=[]\n",
        "def diffvalues(x,y,x1,y1,x2,y2,clf):\n",
        "  e=100\n",
        "  results=[]\n",
        "  results_ = []\n",
        "  for i in range(1, 11):\n",
        "    z=(1-i*0.1)\n",
        "    if z==0:\n",
        "      # xtrr=x\n",
        "      print(\"....\")\n",
        "      # ytrr=y\n",
        "    else:\n",
        "      xtrr,_,ytrr,_= train_test_split(x, y, test_size=z, random_state=4)\n",
        "    clf.fit(xtrr, ytrr)\n",
        "    accvalid=clf.score(x1,y1)\n",
        "    acctest=clf.score(x2,y2)\n",
        "    scorett.append(acctest)\n",
        "    scorevv.append(accvalid)\n",
        "    results_.append({'loop %': e/10,\"Accuracy test\":acctest ,\"Accuracy Valid\":accvalid })\n",
        "    print('Train Sample ={:.2f}, \\\n",
        " test score :{:.2f}, valid score :{:.2f}\\n'\n",
        "         .format( e/10, acctest,accvalid))\n",
        "    e=e+100\n",
        "  return results_"
      ],
      "metadata": {
        "id": "YmWNEczFmvmc"
      },
      "execution_count": null,
      "outputs": []
    },
    {
      "cell_type": "code",
      "source": [
        "### 100% of training samples, try to find the best K value, and show the accuracy curve on the validation set when K varies from 1 to 10\n",
        "scoret=[]\n",
        "scorev=[]\n",
        "def kvalue(x,y,x1,y1,x2,y2):\n",
        "  k=1\n",
        "  results=[]\n",
        "  for i in range(10):\n",
        "    classifier= KNeighborsClassifier(n_neighbors=k,metric='manhattan',weights='distance')\n",
        "    classifier.fit(x,y)\n",
        "    acctrain=classifier.score(x,y)\n",
        "    accvalid=classifier.score(x1,y1)\n",
        "    acctest=classifier.score(x2,y2)    \n",
        "    results.append({'KNeighbors': k,\"Accuracy Valid\":accvalid })\n",
        "    print('KNeighbors={:.2f}, \\\n",
        " train score :{:.2f}, test score :{:.2f}, valid score :{:.2f}\\n'\n",
        "         .format( k,acctrain, acctest,accvalid))\n",
        "    scoret.append(acctest)\n",
        "    scorev.append(accvalid)\n",
        "    k=k+1\n",
        "  return sorted(results, key=lambda d: d['Accuracy Valid']) "
      ],
      "metadata": {
        "id": "MR811ITAGmk2"
      },
      "execution_count": null,
      "outputs": []
    },
    {
      "cell_type": "code",
      "source": [
        "######reader by default take the first raw as columns names thats why i used Header=None\n",
        "data2 = pd.read_csv('car_evaluation.csv',header = None)\n",
        "####renaming feature names \n",
        "data2.rename(columns = {0:'buying',1:'maintainence',2:'doors',3:'persons',4:'lug_boot',5:'safety',6:'class'},inplace = True)\n",
        "data2"
      ],
      "metadata": {
        "colab": {
          "base_uri": "https://localhost:8080/",
          "height": 424
        },
        "id": "dr4t9yP_UTA9",
        "outputId": "f44a6bbf-560a-4c68-f783-29f376ecc72c"
      },
      "execution_count": null,
      "outputs": [
        {
          "output_type": "execute_result",
          "data": {
            "text/plain": [
              "     buying maintainence  doors persons lug_boot safety  class\n",
              "0     vhigh        vhigh      2       2    small    low  unacc\n",
              "1     vhigh        vhigh      2       2    small    med  unacc\n",
              "2     vhigh        vhigh      2       2    small   high  unacc\n",
              "3     vhigh        vhigh      2       2      med    low  unacc\n",
              "4     vhigh        vhigh      2       2      med    med  unacc\n",
              "...     ...          ...    ...     ...      ...    ...    ...\n",
              "1723    low          low  5more    more      med    med   good\n",
              "1724    low          low  5more    more      med   high  vgood\n",
              "1725    low          low  5more    more      big    low  unacc\n",
              "1726    low          low  5more    more      big    med   good\n",
              "1727    low          low  5more    more      big   high  vgood\n",
              "\n",
              "[1728 rows x 7 columns]"
            ],
            "text/html": [
              "\n",
              "  <div id=\"df-0789cb75-1c17-4787-82f3-3853804d1fa5\">\n",
              "    <div class=\"colab-df-container\">\n",
              "      <div>\n",
              "<style scoped>\n",
              "    .dataframe tbody tr th:only-of-type {\n",
              "        vertical-align: middle;\n",
              "    }\n",
              "\n",
              "    .dataframe tbody tr th {\n",
              "        vertical-align: top;\n",
              "    }\n",
              "\n",
              "    .dataframe thead th {\n",
              "        text-align: right;\n",
              "    }\n",
              "</style>\n",
              "<table border=\"1\" class=\"dataframe\">\n",
              "  <thead>\n",
              "    <tr style=\"text-align: right;\">\n",
              "      <th></th>\n",
              "      <th>buying</th>\n",
              "      <th>maintainence</th>\n",
              "      <th>doors</th>\n",
              "      <th>persons</th>\n",
              "      <th>lug_boot</th>\n",
              "      <th>safety</th>\n",
              "      <th>class</th>\n",
              "    </tr>\n",
              "  </thead>\n",
              "  <tbody>\n",
              "    <tr>\n",
              "      <th>0</th>\n",
              "      <td>vhigh</td>\n",
              "      <td>vhigh</td>\n",
              "      <td>2</td>\n",
              "      <td>2</td>\n",
              "      <td>small</td>\n",
              "      <td>low</td>\n",
              "      <td>unacc</td>\n",
              "    </tr>\n",
              "    <tr>\n",
              "      <th>1</th>\n",
              "      <td>vhigh</td>\n",
              "      <td>vhigh</td>\n",
              "      <td>2</td>\n",
              "      <td>2</td>\n",
              "      <td>small</td>\n",
              "      <td>med</td>\n",
              "      <td>unacc</td>\n",
              "    </tr>\n",
              "    <tr>\n",
              "      <th>2</th>\n",
              "      <td>vhigh</td>\n",
              "      <td>vhigh</td>\n",
              "      <td>2</td>\n",
              "      <td>2</td>\n",
              "      <td>small</td>\n",
              "      <td>high</td>\n",
              "      <td>unacc</td>\n",
              "    </tr>\n",
              "    <tr>\n",
              "      <th>3</th>\n",
              "      <td>vhigh</td>\n",
              "      <td>vhigh</td>\n",
              "      <td>2</td>\n",
              "      <td>2</td>\n",
              "      <td>med</td>\n",
              "      <td>low</td>\n",
              "      <td>unacc</td>\n",
              "    </tr>\n",
              "    <tr>\n",
              "      <th>4</th>\n",
              "      <td>vhigh</td>\n",
              "      <td>vhigh</td>\n",
              "      <td>2</td>\n",
              "      <td>2</td>\n",
              "      <td>med</td>\n",
              "      <td>med</td>\n",
              "      <td>unacc</td>\n",
              "    </tr>\n",
              "    <tr>\n",
              "      <th>...</th>\n",
              "      <td>...</td>\n",
              "      <td>...</td>\n",
              "      <td>...</td>\n",
              "      <td>...</td>\n",
              "      <td>...</td>\n",
              "      <td>...</td>\n",
              "      <td>...</td>\n",
              "    </tr>\n",
              "    <tr>\n",
              "      <th>1723</th>\n",
              "      <td>low</td>\n",
              "      <td>low</td>\n",
              "      <td>5more</td>\n",
              "      <td>more</td>\n",
              "      <td>med</td>\n",
              "      <td>med</td>\n",
              "      <td>good</td>\n",
              "    </tr>\n",
              "    <tr>\n",
              "      <th>1724</th>\n",
              "      <td>low</td>\n",
              "      <td>low</td>\n",
              "      <td>5more</td>\n",
              "      <td>more</td>\n",
              "      <td>med</td>\n",
              "      <td>high</td>\n",
              "      <td>vgood</td>\n",
              "    </tr>\n",
              "    <tr>\n",
              "      <th>1725</th>\n",
              "      <td>low</td>\n",
              "      <td>low</td>\n",
              "      <td>5more</td>\n",
              "      <td>more</td>\n",
              "      <td>big</td>\n",
              "      <td>low</td>\n",
              "      <td>unacc</td>\n",
              "    </tr>\n",
              "    <tr>\n",
              "      <th>1726</th>\n",
              "      <td>low</td>\n",
              "      <td>low</td>\n",
              "      <td>5more</td>\n",
              "      <td>more</td>\n",
              "      <td>big</td>\n",
              "      <td>med</td>\n",
              "      <td>good</td>\n",
              "    </tr>\n",
              "    <tr>\n",
              "      <th>1727</th>\n",
              "      <td>low</td>\n",
              "      <td>low</td>\n",
              "      <td>5more</td>\n",
              "      <td>more</td>\n",
              "      <td>big</td>\n",
              "      <td>high</td>\n",
              "      <td>vgood</td>\n",
              "    </tr>\n",
              "  </tbody>\n",
              "</table>\n",
              "<p>1728 rows × 7 columns</p>\n",
              "</div>\n",
              "      <button class=\"colab-df-convert\" onclick=\"convertToInteractive('df-0789cb75-1c17-4787-82f3-3853804d1fa5')\"\n",
              "              title=\"Convert this dataframe to an interactive table.\"\n",
              "              style=\"display:none;\">\n",
              "        \n",
              "  <svg xmlns=\"http://www.w3.org/2000/svg\" height=\"24px\"viewBox=\"0 0 24 24\"\n",
              "       width=\"24px\">\n",
              "    <path d=\"M0 0h24v24H0V0z\" fill=\"none\"/>\n",
              "    <path d=\"M18.56 5.44l.94 2.06.94-2.06 2.06-.94-2.06-.94-.94-2.06-.94 2.06-2.06.94zm-11 1L8.5 8.5l.94-2.06 2.06-.94-2.06-.94L8.5 2.5l-.94 2.06-2.06.94zm10 10l.94 2.06.94-2.06 2.06-.94-2.06-.94-.94-2.06-.94 2.06-2.06.94z\"/><path d=\"M17.41 7.96l-1.37-1.37c-.4-.4-.92-.59-1.43-.59-.52 0-1.04.2-1.43.59L10.3 9.45l-7.72 7.72c-.78.78-.78 2.05 0 2.83L4 21.41c.39.39.9.59 1.41.59.51 0 1.02-.2 1.41-.59l7.78-7.78 2.81-2.81c.8-.78.8-2.07 0-2.86zM5.41 20L4 18.59l7.72-7.72 1.47 1.35L5.41 20z\"/>\n",
              "  </svg>\n",
              "      </button>\n",
              "      \n",
              "  <style>\n",
              "    .colab-df-container {\n",
              "      display:flex;\n",
              "      flex-wrap:wrap;\n",
              "      gap: 12px;\n",
              "    }\n",
              "\n",
              "    .colab-df-convert {\n",
              "      background-color: #E8F0FE;\n",
              "      border: none;\n",
              "      border-radius: 50%;\n",
              "      cursor: pointer;\n",
              "      display: none;\n",
              "      fill: #1967D2;\n",
              "      height: 32px;\n",
              "      padding: 0 0 0 0;\n",
              "      width: 32px;\n",
              "    }\n",
              "\n",
              "    .colab-df-convert:hover {\n",
              "      background-color: #E2EBFA;\n",
              "      box-shadow: 0px 1px 2px rgba(60, 64, 67, 0.3), 0px 1px 3px 1px rgba(60, 64, 67, 0.15);\n",
              "      fill: #174EA6;\n",
              "    }\n",
              "\n",
              "    [theme=dark] .colab-df-convert {\n",
              "      background-color: #3B4455;\n",
              "      fill: #D2E3FC;\n",
              "    }\n",
              "\n",
              "    [theme=dark] .colab-df-convert:hover {\n",
              "      background-color: #434B5C;\n",
              "      box-shadow: 0px 1px 3px 1px rgba(0, 0, 0, 0.15);\n",
              "      filter: drop-shadow(0px 1px 2px rgba(0, 0, 0, 0.3));\n",
              "      fill: #FFFFFF;\n",
              "    }\n",
              "  </style>\n",
              "\n",
              "      <script>\n",
              "        const buttonEl =\n",
              "          document.querySelector('#df-0789cb75-1c17-4787-82f3-3853804d1fa5 button.colab-df-convert');\n",
              "        buttonEl.style.display =\n",
              "          google.colab.kernel.accessAllowed ? 'block' : 'none';\n",
              "\n",
              "        async function convertToInteractive(key) {\n",
              "          const element = document.querySelector('#df-0789cb75-1c17-4787-82f3-3853804d1fa5');\n",
              "          const dataTable =\n",
              "            await google.colab.kernel.invokeFunction('convertToInteractive',\n",
              "                                                     [key], {});\n",
              "          if (!dataTable) return;\n",
              "\n",
              "          const docLinkHtml = 'Like what you see? Visit the ' +\n",
              "            '<a target=\"_blank\" href=https://colab.research.google.com/notebooks/data_table.ipynb>data table notebook</a>'\n",
              "            + ' to learn more about interactive tables.';\n",
              "          element.innerHTML = '';\n",
              "          dataTable['output_type'] = 'display_data';\n",
              "          await google.colab.output.renderOutput(dataTable, element);\n",
              "          const docLink = document.createElement('div');\n",
              "          docLink.innerHTML = docLinkHtml;\n",
              "          element.appendChild(docLink);\n",
              "        }\n",
              "      </script>\n",
              "    </div>\n",
              "  </div>\n",
              "  "
            ]
          },
          "metadata": {},
          "execution_count": 10
        }
      ]
    },
    {
      "cell_type": "markdown",
      "source": [
        "# New Section"
      ],
      "metadata": {
        "id": "QkCRbVEC-DQn"
      }
    },
    {
      "cell_type": "code",
      "source": [
        "#Shuffling the whole data\n",
        "data_shuffle = data2.sample(frac = 1)"
      ],
      "metadata": {
        "id": "HGo2fFd3cE20"
      },
      "execution_count": null,
      "outputs": []
    },
    {
      "cell_type": "code",
      "source": [
        "###############label encoder part \n",
        "dff=data_shuffle.columns\n",
        "le = preprocessing.LabelEncoder()\n",
        "for i in dff:\n",
        "  data_shuffle[i]=le.fit_transform(data_shuffle[i])"
      ],
      "metadata": {
        "id": "D19RIQISKP-T"
      },
      "execution_count": null,
      "outputs": []
    },
    {
      "cell_type": "code",
      "source": [
        "###############Splitting data into train data= 1000 and valid as 300 and test as the rest\n",
        "X_train2=data_shuffle.iloc[:1000,:6] \n",
        "y_train2=data_shuffle.iloc[:1000,-1]\n",
        "X_valid2=data_shuffle.iloc[1000:1300,:6]\n",
        "y_valid2=data_shuffle.iloc[1000:1300,-1]\n",
        "X_test2=data_shuffle.iloc[1300:,:6]\n",
        "y_test2=data_shuffle.iloc[1300:,-1]"
      ],
      "metadata": {
        "id": "Ar_NrEvhLtE6"
      },
      "execution_count": null,
      "outputs": []
    },
    {
      "cell_type": "code",
      "source": [
        "#different number of training samples to show the impact of number of training samples. Use 10%, 20%, 30%, 40%, 50%, 60%, 70%, 80%, 90% and 100% fixed K=2\n",
        "#return the accuracy values and store it on \" call \" varriable\n",
        "classifier= KNeighborsClassifier(n_neighbors=2,metric='manhattan',weights='distance')\n",
        "call=diffvalues(X_train2,y_train2,X_valid2,y_valid2,X_test2,y_test2,classifier)"
      ],
      "metadata": {
        "id": "UBeKAr9QihCd",
        "colab": {
          "base_uri": "https://localhost:8080/"
        },
        "outputId": "1869d95d-7374-4564-bd44-027921fb694e"
      },
      "execution_count": null,
      "outputs": [
        {
          "output_type": "stream",
          "name": "stdout",
          "text": [
            "Train Sample =10.00,  test score :0.67, valid score :0.69\n",
            "\n",
            "Train Sample =20.00,  test score :0.72, valid score :0.70\n",
            "\n",
            "Train Sample =30.00,  test score :0.76, valid score :0.71\n",
            "\n",
            "Train Sample =40.00,  test score :0.78, valid score :0.73\n",
            "\n",
            "Train Sample =50.00,  test score :0.80, valid score :0.78\n",
            "\n",
            "Train Sample =60.00,  test score :0.78, valid score :0.77\n",
            "\n",
            "Train Sample =70.00,  test score :0.79, valid score :0.78\n",
            "\n",
            "Train Sample =80.00,  test score :0.78, valid score :0.78\n",
            "\n",
            "Train Sample =90.00,  test score :0.78, valid score :0.80\n",
            "\n",
            "....\n",
            "Train Sample =100.00,  test score :0.78, valid score :0.80\n",
            "\n"
          ]
        }
      ]
    },
    {
      "cell_type": "code",
      "source": [
        "#Use 100% of training samples K varies from 1 to 10\n",
        "cal=kvalue(X_train2,y_train2,X_valid2,y_valid2,X_test2,y_test2)"
      ],
      "metadata": {
        "id": "Xjl1FfCXMyRn",
        "colab": {
          "base_uri": "https://localhost:8080/"
        },
        "outputId": "6db5d1cf-67fc-4768-a7aa-2488120ad490"
      },
      "execution_count": null,
      "outputs": [
        {
          "output_type": "stream",
          "name": "stdout",
          "text": [
            "KNeighbors=1.00,  train score :1.00, test score :0.77, valid score :0.77\n",
            "\n",
            "KNeighbors=2.00,  train score :1.00, test score :0.76, valid score :0.75\n",
            "\n",
            "KNeighbors=3.00,  train score :1.00, test score :0.86, valid score :0.87\n",
            "\n",
            "KNeighbors=4.00,  train score :1.00, test score :0.88, valid score :0.89\n",
            "\n",
            "KNeighbors=5.00,  train score :1.00, test score :0.91, valid score :0.90\n",
            "\n",
            "KNeighbors=6.00,  train score :1.00, test score :0.89, valid score :0.92\n",
            "\n",
            "KNeighbors=7.00,  train score :1.00, test score :0.89, valid score :0.91\n",
            "\n",
            "KNeighbors=8.00,  train score :1.00, test score :0.89, valid score :0.90\n",
            "\n",
            "KNeighbors=9.00,  train score :1.00, test score :0.88, valid score :0.90\n",
            "\n",
            "KNeighbors=10.00,  train score :1.00, test score :0.89, valid score :0.90\n",
            "\n"
          ]
        }
      ]
    },
    {
      "cell_type": "code",
      "source": [
        "# plot the relationship between K and testing accuracy\n",
        "# plt.plot(x_axis, y_axis)\n",
        "L=[0.1,0.2,0.3,0.4,0.5,0.6,0.7,0.8,0.9,1]\n",
        "plt.plot(L, scorett,color='b', linestyle='dashed', linewidth = 1, marker='o', markerfacecolor='y', markersize=10)\n",
        "plt.plot(L, scorevv,color='red', linestyle='dashed', linewidth = 1, marker='^', markerfacecolor='c', markersize=10)\n",
        "plt.xlabel('Portion of Training Set')\n",
        "plt.ylabel('Accuracy')\n",
        "plt.legend( ['testing','validation'])"
      ],
      "metadata": {
        "colab": {
          "base_uri": "https://localhost:8080/",
          "height": 296
        },
        "id": "sPHKr1hkENYb",
        "outputId": "79946ba6-519c-41c6-d4b1-97e35b577647"
      },
      "execution_count": null,
      "outputs": [
        {
          "output_type": "execute_result",
          "data": {
            "text/plain": [
              "<matplotlib.legend.Legend at 0x7f68e3c20710>"
            ]
          },
          "metadata": {},
          "execution_count": 295
        },
        {
          "output_type": "display_data",
          "data": {
            "text/plain": [
              "<Figure size 432x288 with 1 Axes>"
            ],
            "image/png": "[encoded data removed]"
          },
          "metadata": {
            "needs_background": "light"
          }
        }
      ]
    },
    {
      "cell_type": "code",
      "source": [
        "# plot the relationship between K and testing accuracy\n",
        "# plt.plot(x_axis, y_axis)\n",
        "plt.plot(scorev,label='Validation Score',color='red', linestyle='dashed', linewidth = 1, marker='^', markerfacecolor='c', markersize=10)\n",
        "plt.xlabel('Values of K for KNN')\n",
        "plt.ylabel('Validation Accuracy ')\n",
        "plt.title(\"Validation Accuracy\")"
      ],
      "metadata": {
        "id": "gxX-U_nkPBro",
        "colab": {
          "base_uri": "https://localhost:8080/",
          "height": 312
        },
        "outputId": "0d60cff4-7835-4b05-f0f8-e78ffcce7f0b"
      },
      "execution_count": null,
      "outputs": [
        {
          "output_type": "execute_result",
          "data": {
            "text/plain": [
              "Text(0.5, 1.0, 'Validation Accuracy')"
            ]
          },
          "metadata": {},
          "execution_count": 296
        },
        {
          "output_type": "display_data",
          "data": {
            "text/plain": [
              "<Figure size 432x288 with 1 Axes>"
            ],
            "image/png": "[encoded data removed]"
          },
          "metadata": {
            "needs_background": "light"
          }
        }
      ]
    },
    {
      "cell_type": "code",
      "source": [
        "###the K value list sorted to find the best K \n",
        "cal"
      ],
      "metadata": {
        "colab": {
          "base_uri": "https://localhost:8080/"
        },
        "id": "6neQroe5yTEt",
        "outputId": "68cdc5d4-3e86-4af8-c624-657ee1ea9f63"
      },
      "execution_count": null,
      "outputs": [
        {
          "output_type": "execute_result",
          "data": {
            "text/plain": [
              "[{'Accuracy Valid': 0.75, 'KNeighbors': 2},\n",
              " {'Accuracy Valid': 0.7666666666666667, 'KNeighbors': 1},\n",
              " {'Accuracy Valid': 0.87, 'KNeighbors': 3},\n",
              " {'Accuracy Valid': 0.8933333333333333, 'KNeighbors': 4},\n",
              " {'Accuracy Valid': 0.9, 'KNeighbors': 9},\n",
              " {'Accuracy Valid': 0.9033333333333333, 'KNeighbors': 5},\n",
              " {'Accuracy Valid': 0.9033333333333333, 'KNeighbors': 8},\n",
              " {'Accuracy Valid': 0.9033333333333333, 'KNeighbors': 10},\n",
              " {'Accuracy Valid': 0.9133333333333333, 'KNeighbors': 7},\n",
              " {'Accuracy Valid': 0.9166666666666666, 'KNeighbors': 6}]"
            ]
          },
          "metadata": {},
          "execution_count": 297
        }
      ]
    },
    {
      "cell_type": "code",
      "source": [
        "#######best K Value \n",
        "classifier= KNeighborsClassifier(n_neighbors=6,metric='manhattan',weights='distance')\n",
        "classifier.fit(X_train2,y_train2)\n",
        "accvalid=classifier.score(X_valid2,y_valid2)\n",
        "print('Validation Score={:.2f}\\n'\n",
        "         .format(accvalid))"
      ],
      "metadata": {
        "colab": {
          "base_uri": "https://localhost:8080/"
        },
        "id": "BZ5tejvoP6sG",
        "outputId": "7dc7b0f1-561c-4519-ab06-882882aa0e6e"
      },
      "execution_count": null,
      "outputs": [
        {
          "output_type": "stream",
          "name": "stdout",
          "text": [
            "Validation Score=0.92\n",
            "\n"
          ]
        }
      ]
    },
    {
      "cell_type": "code",
      "source": [
        "## Analysis the training time when use different number of training samples. Consider the following 4 cases  n  ,  t \n",
        "n=[2,2,10,10]\n",
        "t=[100,1000,100,1000]\n",
        "for f, b in zip(n, t):\n",
        "  time1(f,b,X_train2,y_train2,X_test2,y_test2)"
      ],
      "metadata": {
        "id": "xmlmuWGf0jT4"
      },
      "execution_count": null,
      "outputs": []
    },
    {
      "cell_type": "code",
      "source": [
        "###taking the time values for plotting \n",
        "elist=[]\n",
        "for i in range(len(atime2)):\n",
        "  elist.append(atime2[i][0]['ptime'])"
      ],
      "metadata": {
        "id": "ttoNIIPh16cZ"
      },
      "execution_count": null,
      "outputs": []
    },
    {
      "cell_type": "code",
      "source": [
        "#plotting prediction time on the testing data\n",
        "plottime(elist)"
      ],
      "metadata": {
        "colab": {
          "base_uri": "https://localhost:8080/",
          "height": 350
        },
        "id": "cqEJX5ax3uW-",
        "outputId": "c939d3f7-d1cc-4570-a053-82c3c28a4dc8"
      },
      "execution_count": null,
      "outputs": [
        {
          "output_type": "display_data",
          "data": {
            "text/plain": [
              "<Figure size 720x360 with 1 Axes>"
            ],
            "image/png": "[encoded data removed]"
          },
          "metadata": {
            "needs_background": "light"
          }
        }
      ]
    },
    {
      "cell_type": "code",
      "source": [
        "#printing all times \n",
        "atime2"
      ],
      "metadata": {
        "id": "VjU0UxX1AEH2",
        "colab": {
          "base_uri": "https://localhost:8080/"
        },
        "outputId": "8b3ae8b9-f675-4048-cfdc-9fe32a5db716"
      },
      "execution_count": null,
      "outputs": [
        {
          "output_type": "execute_result",
          "data": {
            "text/plain": [
              "[[{'n': 2, 'ptime': 0.021692752838134766, 'randsample': 100}],\n",
              " [{'n': 2, 'ptime': 0.017238616943359375, 'randsample': 1000}],\n",
              " [{'n': 10, 'ptime': 0.017142772674560547, 'randsample': 100}],\n",
              " [{'n': 10, 'ptime': 0.020524024963378906, 'randsample': 1000}]]"
            ]
          },
          "metadata": {},
          "execution_count": 302
        }
      ]
    },
    {
      "cell_type": "code",
      "source": [
        "#best timing for prediction on test data\n",
        "atime2[2]"
      ],
      "metadata": {
        "id": "gNeLRX_tTPrj",
        "colab": {
          "base_uri": "https://localhost:8080/"
        },
        "outputId": "3219e38d-0562-46a8-e8cb-dfd9ab894127"
      },
      "execution_count": null,
      "outputs": [
        {
          "output_type": "execute_result",
          "data": {
            "text/plain": [
              "[{'n': 10, 'ptime': 0.017142772674560547, 'randsample': 100}]"
            ]
          },
          "metadata": {},
          "execution_count": 303
        }
      ]
    },
    {
      "cell_type": "code",
      "source": [
        ""
      ],
      "metadata": {
        "id": "XNYjy_9iIO8k"
      },
      "execution_count": null,
      "outputs": []
    }
  ]
}